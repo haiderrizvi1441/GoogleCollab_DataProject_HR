{
  "nbformat": 4,
  "nbformat_minor": 0,
  "metadata": {
    "colab": {
      "name": "Scrpit1.ipynb",
      "provenance": [],
      "collapsed_sections": [],
      "authorship_tag": "ABX9TyOriiSMXvdmB7hqd+aEBHcT",
      "include_colab_link": true
    },
    "kernelspec": {
      "name": "python3",
      "display_name": "Python 3"
    },
    "language_info": {
      "name": "python"
    }
  },
  "cells": [
    {
      "cell_type": "markdown",
      "metadata": {
        "id": "view-in-github",
        "colab_type": "text"
      },
      "source": [
        "<a href=\"https://colab.research.google.com/github/haiderrizvi1441/GoogleCollab_DataProject_HR/blob/main/Scrpit1.ipynb\" target=\"_parent\"><img src=\"https://colab.research.google.com/assets/colab-badge.svg\" alt=\"Open In Colab\"/></a>"
      ]
    },
    {
      "cell_type": "markdown",
      "source": [
        "### Importing Libraries"
      ],
      "metadata": {
        "id": "iu8cl1ABSk5R"
      }
    },
    {
      "cell_type": "code",
      "source": [
        "import pandas as pd \n",
        "from matplotlib import pyplot as pd"
      ],
      "metadata": {
        "id": "RwDZIBlIJb93"
      },
      "execution_count": 10,
      "outputs": []
    },
    {
      "cell_type": "code",
      "source": [
        ""
      ],
      "metadata": {
        "id": "c_HMdotjJd51"
      },
      "execution_count": 9,
      "outputs": []
    },
    {
      "cell_type": "code",
      "source": [
        ""
      ],
      "metadata": {
        "id": "rEz-tvocKifd"
      },
      "execution_count": null,
      "outputs": []
    },
    {
      "cell_type": "markdown",
      "source": [
        "### Adding the Dataset\n"
      ],
      "metadata": {
        "id": "Wsn7-DVRS1SN"
      }
    },
    {
      "cell_type": "code",
      "source": [
        ""
      ],
      "metadata": {
        "id": "NlKS3TupS7s5"
      },
      "execution_count": null,
      "outputs": []
    }
  ]
}